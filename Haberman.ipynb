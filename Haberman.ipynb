{
 "cells": [
  {
   "cell_type": "markdown",
   "metadata": {},
   "source": [
    "# Haberman's Survival Data Set\n",
    "\n",
    "**Overview:**\n",
    "\n",
    "The dataset contains cases from a study that was conducted between 1958 and 1970 at the University of Chicago's Billings Hospital on the survival of patients who had undergone surgery for breast cancer.\n",
    "\n",
    "**Source:** https://www.kaggle.com/gilsousa/habermans-survival-data-set"
   ]
  },
  {
   "cell_type": "code",
   "execution_count": 1,
   "metadata": {
    "collapsed": true
   },
   "outputs": [],
   "source": [
    "import pandas as pd"
   ]
  },
  {
   "cell_type": "code",
   "execution_count": 2,
   "metadata": {
    "collapsed": true
   },
   "outputs": [],
   "source": [
    "hmn = pd.read_csv('haberman.csv')"
   ]
  },
  {
   "cell_type": "code",
   "execution_count": 3,
   "metadata": {},
   "outputs": [
    {
     "name": "stdout",
     "output_type": "stream",
     "text": [
      "(305, 4)\n"
     ]
    }
   ],
   "source": [
    "#(Q) how many observations and features are there in the total dataset?\n",
    "print (hmn.shape)"
   ]
  },
  {
   "cell_type": "markdown",
   "metadata": {
    "collapsed": true
   },
   "source": [
    "but, the kaggle website says there are 306 instances of data. read point 5 at https://www.kaggle.com/gilsousa/habermans-survival-data-set/data\n",
    "\n",
    "also opening the original haberman.csv file in a text-editor like notepad++ shows 306 rows.\n",
    "\n",
    "so where is the missing row? lets find out"
   ]
  },
  {
   "cell_type": "code",
   "execution_count": 4,
   "metadata": {},
   "outputs": [
    {
     "data": {
      "text/html": [
       "<div>\n",
       "<style>\n",
       "    .dataframe thead tr:only-child th {\n",
       "        text-align: right;\n",
       "    }\n",
       "\n",
       "    .dataframe thead th {\n",
       "        text-align: left;\n",
       "    }\n",
       "\n",
       "    .dataframe tbody tr th {\n",
       "        vertical-align: top;\n",
       "    }\n",
       "</style>\n",
       "<table border=\"1\" class=\"dataframe\">\n",
       "  <thead>\n",
       "    <tr style=\"text-align: right;\">\n",
       "      <th></th>\n",
       "      <th>30</th>\n",
       "      <th>64</th>\n",
       "      <th>1</th>\n",
       "      <th>1.1</th>\n",
       "    </tr>\n",
       "  </thead>\n",
       "  <tbody>\n",
       "    <tr>\n",
       "      <th>0</th>\n",
       "      <td>30</td>\n",
       "      <td>62</td>\n",
       "      <td>3</td>\n",
       "      <td>1</td>\n",
       "    </tr>\n",
       "    <tr>\n",
       "      <th>1</th>\n",
       "      <td>30</td>\n",
       "      <td>65</td>\n",
       "      <td>0</td>\n",
       "      <td>1</td>\n",
       "    </tr>\n",
       "    <tr>\n",
       "      <th>2</th>\n",
       "      <td>31</td>\n",
       "      <td>59</td>\n",
       "      <td>2</td>\n",
       "      <td>1</td>\n",
       "    </tr>\n",
       "    <tr>\n",
       "      <th>3</th>\n",
       "      <td>31</td>\n",
       "      <td>65</td>\n",
       "      <td>4</td>\n",
       "      <td>1</td>\n",
       "    </tr>\n",
       "    <tr>\n",
       "      <th>4</th>\n",
       "      <td>33</td>\n",
       "      <td>58</td>\n",
       "      <td>10</td>\n",
       "      <td>1</td>\n",
       "    </tr>\n",
       "  </tbody>\n",
       "</table>\n",
       "</div>"
      ],
      "text/plain": [
       "   30  64   1  1.1\n",
       "0  30  62   3    1\n",
       "1  30  65   0    1\n",
       "2  31  59   2    1\n",
       "3  31  65   4    1\n",
       "4  33  58  10    1"
      ]
     },
     "execution_count": 4,
     "metadata": {},
     "output_type": "execute_result"
    }
   ],
   "source": [
    "#view some data from the hmn dataframe\n",
    "hmn.head()"
   ]
  },
  {
   "cell_type": "markdown",
   "metadata": {},
   "source": [
    "seems like pandas is using up the first data row as the column header. Lets fix that;"
   ]
  },
  {
   "cell_type": "code",
   "execution_count": 5,
   "metadata": {},
   "outputs": [
    {
     "name": "stdout",
     "output_type": "stream",
     "text": [
      "(306, 4)\n"
     ]
    }
   ],
   "source": [
    "#read haberman.csv data-set again and add column headers\n",
    "hmn = pd.read_csv('haberman.csv' , names = [\"age\", \"op-yr\", \"node\", \"class\"])\n",
    "\n",
    "print (hmn.shape)"
   ]
  },
  {
   "cell_type": "code",
   "execution_count": 6,
   "metadata": {},
   "outputs": [
    {
     "data": {
      "text/html": [
       "<div>\n",
       "<style>\n",
       "    .dataframe thead tr:only-child th {\n",
       "        text-align: right;\n",
       "    }\n",
       "\n",
       "    .dataframe thead th {\n",
       "        text-align: left;\n",
       "    }\n",
       "\n",
       "    .dataframe tbody tr th {\n",
       "        vertical-align: top;\n",
       "    }\n",
       "</style>\n",
       "<table border=\"1\" class=\"dataframe\">\n",
       "  <thead>\n",
       "    <tr style=\"text-align: right;\">\n",
       "      <th></th>\n",
       "      <th>age</th>\n",
       "      <th>op-yr</th>\n",
       "      <th>node</th>\n",
       "      <th>class</th>\n",
       "    </tr>\n",
       "  </thead>\n",
       "  <tbody>\n",
       "    <tr>\n",
       "      <th>280</th>\n",
       "      <td>68</td>\n",
       "      <td>68</td>\n",
       "      <td>0</td>\n",
       "      <td>1</td>\n",
       "    </tr>\n",
       "    <tr>\n",
       "      <th>18</th>\n",
       "      <td>37</td>\n",
       "      <td>60</td>\n",
       "      <td>0</td>\n",
       "      <td>1</td>\n",
       "    </tr>\n",
       "    <tr>\n",
       "      <th>210</th>\n",
       "      <td>58</td>\n",
       "      <td>61</td>\n",
       "      <td>1</td>\n",
       "      <td>1</td>\n",
       "    </tr>\n",
       "    <tr>\n",
       "      <th>89</th>\n",
       "      <td>46</td>\n",
       "      <td>58</td>\n",
       "      <td>2</td>\n",
       "      <td>2</td>\n",
       "    </tr>\n",
       "    <tr>\n",
       "      <th>129</th>\n",
       "      <td>50</td>\n",
       "      <td>63</td>\n",
       "      <td>1</td>\n",
       "      <td>1</td>\n",
       "    </tr>\n",
       "  </tbody>\n",
       "</table>\n",
       "</div>"
      ],
      "text/plain": [
       "     age  op-yr  node  class\n",
       "280   68     68     0      1\n",
       "18    37     60     0      1\n",
       "210   58     61     1      1\n",
       "89    46     58     2      2\n",
       "129   50     63     1      1"
      ]
     },
     "execution_count": 6,
     "metadata": {},
     "output_type": "execute_result"
    }
   ],
   "source": [
    "# view some random data to confirm everything is as expected\n",
    "hmn.sample(5)"
   ]
  },
  {
   "cell_type": "code",
   "execution_count": 7,
   "metadata": {},
   "outputs": [
    {
     "name": "stdout",
     "output_type": "stream",
     "text": [
      "Index(['age', 'op-yr', 'node', 'class'], dtype='object')\n"
     ]
    }
   ],
   "source": [
    "#(Q) what are the columns in our dataset?\n",
    "print (hmn.columns)"
   ]
  },
  {
   "cell_type": "markdown",
   "metadata": {},
   "source": [
    "Column Information:\n",
    "   * age: Age of patient at time of operation (numerical)\n",
    "   * op-yr: Patient's calender year of operation (19xx, numerical)\n",
    "   * node: Number of positive axillary nodes detected (numerical)\n",
    "       * A positive axillary node is a lymph node in the area of the armpit (axilla) to which cancer has spread. See- https://en.wikipedia.org/wiki/Positive_axillary_lymph_node\n",
    "   * class: Survival status (numerical)\n",
    "       * 1 = the patient survived 5 years or longer after the operation\n",
    "       * 2 = the patient died within 5 year of operation"
   ]
  },
  {
   "cell_type": "code",
   "execution_count": null,
   "metadata": {
    "collapsed": true
   },
   "outputs": [],
   "source": []
  },
  {
   "cell_type": "markdown",
   "metadata": {},
   "source": [
    "**OBJECTIVE:**\n",
    "\n",
    "Given a new patient's (age, year-of-operation, count-of-positive-nodes-detected) we want to build a model which predicts if the patient will survive for more than 5 years after the operation or not.\n",
    "\n",
    "The following is the Exploratory Data Analysis for the same."
   ]
  },
  {
   "cell_type": "code",
   "execution_count": null,
   "metadata": {
    "collapsed": true
   },
   "outputs": [],
   "source": []
  },
  {
   "cell_type": "code",
   "execution_count": 8,
   "metadata": {},
   "outputs": [
    {
     "data": {
      "text/plain": [
       "1    225\n",
       "2     81\n",
       "Name: class, dtype: int64"
      ]
     },
     "execution_count": 8,
     "metadata": {},
     "output_type": "execute_result"
    }
   ],
   "source": [
    "#(Q) how many data points for each class are present?\n",
    "hmn[\"class\"].value_counts()"
   ]
  },
  {
   "cell_type": "markdown",
   "metadata": {
    "collapsed": true
   },
   "source": [
    "###### Conclusions:\n",
    "1. This is an imbalanced dataset.\n",
    "    * ~**73.5%** survied for more than 5 yr after the operation\n",
    "    * ~**26.5%** did not"
   ]
  },
  {
   "cell_type": "code",
   "execution_count": 9,
   "metadata": {
    "collapsed": true
   },
   "outputs": [],
   "source": [
    "import seaborn as sns\n",
    "import matplotlib.pyplot as plt\n",
    "\n",
    "sns.set_style('whitegrid')"
   ]
  },
  {
   "cell_type": "code",
   "execution_count": 10,
   "metadata": {
    "collapsed": true
   },
   "outputs": [],
   "source": [
    "#separating class1 and class2 dataset for better understanding and ease of working\n",
    "\n",
    "hmn_1 = hmn.loc[hmn['class']==1]\n",
    "hmn_2 = hmn.loc[hmn['class']==2]"
   ]
  },
  {
   "cell_type": "markdown",
   "metadata": {},
   "source": [
    "First I'll try performing univariate analysis and see if the features individually reflect anything"
   ]
  },
  {
   "cell_type": "code",
   "execution_count": 11,
   "metadata": {},
   "outputs": [
    {
     "data": {
      "image/png": "[encoded data removed]",
      "text/plain": [
       "<matplotlib.figure.Figure at 0x22b3496cda0>"
      ]
     },
     "metadata": {},
     "output_type": "display_data"
    }
   ],
   "source": [
    "# 1. Studying 'age' feature\n",
    "\n",
    "fig, axs = plt.subplots(1, 3, sharex=True, sharey=True)\n",
    "\n",
    "plt.suptitle(\"Age: All vs Class 1 vs Class 2\", y=1.06, fontsize=22)\n",
    "fig.set_figheight(5)\n",
    "fig.set_figwidth(15)\n",
    "\n",
    "axs[0].set_title('All: Class1 + Class2')\n",
    "sns.distplot(hmn['age'], \n",
    "             bins=range(min(hmn['age']), max(hmn['age']) + 1), \n",
    "             kde=False, ax=axs[0])\n",
    "\n",
    "axs[1].set_title('Class1')\n",
    "sns.distplot(hmn_1['age'], \n",
    "             bins=range(min(hmn_1['age']), max(hmn_1['age']) + 1), \n",
    "             color='g', kde=False, ax=axs[1])\n",
    "\n",
    "axs[2].set_title('Class2')\n",
    "sns.distplot(hmn_2['age'], \n",
    "             bins=range(min(hmn_2['age']), max(hmn_2['age']) + 1), \n",
    "             color='r', kde=False, ax=axs[2])\n",
    "\n",
    "plt.tight_layout()\n",
    "plt.show()"
   ]
  },
  {
   "cell_type": "code",
   "execution_count": 12,
   "metadata": {},
   "outputs": [
    {
     "data": {
      "text/plain": [
       "count    306.000000\n",
       "mean      52.457516\n",
       "std       10.803452\n",
       "min       30.000000\n",
       "25%       44.000000\n",
       "50%       52.000000\n",
       "75%       60.750000\n",
       "max       83.000000\n",
       "Name: age, dtype: float64"
      ]
     },
     "execution_count": 12,
     "metadata": {},
     "output_type": "execute_result"
    }
   ],
   "source": [
    "hmn['age'].describe()"
   ]
  },
  {
   "cell_type": "code",
   "execution_count": 13,
   "metadata": {},
   "outputs": [
    {
     "data": {
      "text/plain": [
       "count    225.000000\n",
       "mean      52.017778\n",
       "std       11.012154\n",
       "min       30.000000\n",
       "25%       43.000000\n",
       "50%       52.000000\n",
       "75%       60.000000\n",
       "max       77.000000\n",
       "Name: age, dtype: float64"
      ]
     },
     "execution_count": 13,
     "metadata": {},
     "output_type": "execute_result"
    }
   ],
   "source": [
    "hmn_1['age'].describe()"
   ]
  },
  {
   "cell_type": "code",
   "execution_count": 14,
   "metadata": {},
   "outputs": [
    {
     "data": {
      "text/plain": [
       "count    81.000000\n",
       "mean     53.679012\n",
       "std      10.167137\n",
       "min      34.000000\n",
       "25%      46.000000\n",
       "50%      53.000000\n",
       "75%      61.000000\n",
       "max      83.000000\n",
       "Name: age, dtype: float64"
      ]
     },
     "execution_count": 14,
     "metadata": {},
     "output_type": "execute_result"
    }
   ],
   "source": [
    "hmn_2['age'].describe()"
   ]
  },
  {
   "cell_type": "code",
   "execution_count": 15,
   "metadata": {},
   "outputs": [
    {
     "name": "stdout",
     "output_type": "stream",
     "text": [
      "Total: Number of Patient whose age <40 = 43\n",
      "Class 1: Number of Patient whose age <40 = 39\n"
     ]
    }
   ],
   "source": [
    "print(\"Total: Number of Patient whose age <40 = {}\"\n",
    "      .format(len(hmn[hmn['age']<=40])))\n",
    "print(\"Class 1: Number of Patient whose age <40 = {}\"\n",
    "      .format(len(hmn_1[hmn_1['age']<=40])))"
   ]
  },
  {
   "cell_type": "markdown",
   "metadata": {},
   "source": [
    "###### Conclusions:\n",
    "1. **All** patients **< 34** years of age at the time of operation survived for more than 5 years\n",
    "\n",
    "2. **No** patient **> 77** years of age at the time of operation survived for more than 5 years\n",
    "\n",
    "3. If patient's age is **<= 40** at the time of operation, chances of survival for more than 5 years is significantly higher at **90%**(39/43) "
   ]
  },
  {
   "cell_type": "code",
   "execution_count": 16,
   "metadata": {},
   "outputs": [
    {
     "data": {
      "image/png": "[encoded data removed]",
      "text/plain": [
       "<matplotlib.figure.Figure at 0x22b36b57e80>"
      ]
     },
     "metadata": {},
     "output_type": "display_data"
    }
   ],
   "source": [
    "# 2. Studying 'op-yr' feature\n",
    "\n",
    "fig, axs = plt.subplots(1, 3, sharex=True, sharey=True)\n",
    "\n",
    "plt.suptitle(\"Operation Year: All vs Class 1 vs Class 2\", y=1.06, fontsize=22)\n",
    "fig.set_figheight(5)\n",
    "fig.set_figwidth(15)\n",
    "\n",
    "axs[0].set_title('All: Class1 + Class2')\n",
    "sns.distplot(hmn['op-yr'], \n",
    "             bins=range(min(hmn['op-yr']), max(hmn['op-yr']) + 1), \n",
    "             kde=False, ax=axs[0])\n",
    "\n",
    "axs[1].set_title('Class1')\n",
    "sns.distplot(hmn_1['op-yr'], \n",
    "             bins=range(min(hmn_1['op-yr']), max(hmn_1['op-yr']) + 1), \n",
    "             color='g', kde=False, ax=axs[1])\n",
    "\n",
    "axs[2].set_title('Class2')\n",
    "sns.distplot(hmn_2['op-yr'], \n",
    "             bins=range(min(hmn_2['op-yr']), max(hmn_2['op-yr']) + 1), \n",
    "             color='r', kde=False, ax=axs[2])\n",
    "\n",
    "plt.tight_layout()\n",
    "plt.show()"
   ]
  },
  {
   "cell_type": "code",
   "execution_count": 17,
   "metadata": {},
   "outputs": [
    {
     "data": {
      "text/plain": [
       "count    306.000000\n",
       "mean      62.852941\n",
       "std        3.249405\n",
       "min       58.000000\n",
       "25%       60.000000\n",
       "50%       63.000000\n",
       "75%       65.750000\n",
       "max       69.000000\n",
       "Name: op-yr, dtype: float64"
      ]
     },
     "execution_count": 17,
     "metadata": {},
     "output_type": "execute_result"
    }
   ],
   "source": [
    "hmn['op-yr'].describe()"
   ]
  },
  {
   "cell_type": "code",
   "execution_count": 18,
   "metadata": {},
   "outputs": [
    {
     "data": {
      "text/plain": [
       "count    225.000000\n",
       "mean      62.862222\n",
       "std        3.222915\n",
       "min       58.000000\n",
       "25%       60.000000\n",
       "50%       63.000000\n",
       "75%       66.000000\n",
       "max       69.000000\n",
       "Name: op-yr, dtype: float64"
      ]
     },
     "execution_count": 18,
     "metadata": {},
     "output_type": "execute_result"
    }
   ],
   "source": [
    "hmn_1['op-yr'].describe()"
   ]
  },
  {
   "cell_type": "code",
   "execution_count": 19,
   "metadata": {},
   "outputs": [
    {
     "data": {
      "text/plain": [
       "count    81.000000\n",
       "mean     62.827160\n",
       "std       3.342118\n",
       "min      58.000000\n",
       "25%      59.000000\n",
       "50%      63.000000\n",
       "75%      65.000000\n",
       "max      69.000000\n",
       "Name: op-yr, dtype: float64"
      ]
     },
     "execution_count": 19,
     "metadata": {},
     "output_type": "execute_result"
    }
   ],
   "source": [
    "hmn_2['op-yr'].describe()"
   ]
  },
  {
   "cell_type": "code",
   "execution_count": 20,
   "metadata": {},
   "outputs": [
    {
     "name": "stdout",
     "output_type": "stream",
     "text": [
      "year: 1958, total-patient: 36, class1: 66.67%, class2: 33.33%\n",
      "year: 1959, total-patient: 27, class1: 66.67%, class2: 33.33%\n",
      "year: 1960, total-patient: 28, class1: 85.71%, class2: 14.29%\n",
      "year: 1961, total-patient: 26, class1: 88.46%, class2: 11.54%\n",
      "year: 1962, total-patient: 23, class1: 69.57%, class2: 30.43%\n",
      "year: 1963, total-patient: 30, class1: 73.33%, class2: 26.67%\n",
      "year: 1964, total-patient: 31, class1: 74.19%, class2: 25.81%\n",
      "year: 1965, total-patient: 28, class1: 53.57%, class2: 46.43%\n",
      "year: 1966, total-patient: 28, class1: 78.57%, class2: 21.43%\n",
      "year: 1967, total-patient: 25, class1: 84.0%, class2: 16.0%\n",
      "year: 1968, total-patient: 13, class1: 76.92%, class2: 23.08%\n",
      "year: 1969, total-patient: 11, class1: 63.64%, class2: 36.36%\n"
     ]
    }
   ],
   "source": [
    "# % patient distribution of class1 vs class2 for each year\n",
    "\n",
    "for i in range(min(hmn['op-yr']), max(hmn['op-yr']) + 1):\n",
    "    total = len(hmn[hmn['op-yr']==i])\n",
    "    class1 = len(hmn_1[hmn_1['op-yr']==i])\n",
    "    print(\"year: 19{}, total-patient: {}, class1: {}%, class2: {}%\"\n",
    "          .format(i,total,round(class1/total*100,2),round(100-(class1/total*100),2)))"
   ]
  },
  {
   "cell_type": "markdown",
   "metadata": {},
   "source": [
    "###### Conclusions:\n",
    "1. Year of Operation doesn't seem to have any prominent effect on patient's survival status."
   ]
  },
  {
   "cell_type": "code",
   "execution_count": 21,
   "metadata": {},
   "outputs": [
    {
     "data": {
      "image/png": "[encoded data removed]",
      "text/plain": [
       "<matplotlib.figure.Figure at 0x22b36ae6198>"
      ]
     },
     "metadata": {},
     "output_type": "display_data"
    }
   ],
   "source": [
    "# 3. Studying 'node' feature\n",
    "\n",
    "fig, axs = plt.subplots(1, 3, sharey=True)\n",
    "\n",
    "plt.suptitle(\"+ve axi nodes: All vs Class 1 vs Class 2\", y=1.06, fontsize=22)\n",
    "fig.set_figheight(5)\n",
    "fig.set_figwidth(15)\n",
    "\n",
    "axs[0].set_title('All: Class1 + Class2')\n",
    "sns.distplot(hmn['node'], \n",
    "             bins=range(min(hmn['node']), max(hmn['op-yr']) + 1), \n",
    "             kde=False, ax=axs[0])\n",
    "\n",
    "axs[1].set_title('Class1')\n",
    "sns.distplot(hmn_1['node'], \n",
    "             bins=range(min(hmn_1['node']), max(hmn_1['node']) + 1), \n",
    "             color='g', kde=False, ax=axs[1])\n",
    "\n",
    "axs[2].set_title('Class2')\n",
    "sns.distplot(hmn_2['node'], \n",
    "             bins=range(min(hmn_2['node']), max(hmn_2['node']) + 1), \n",
    "             color='r', kde=False, ax=axs[2])\n",
    "\n",
    "plt.tight_layout()\n",
    "plt.show()"
   ]
  },
  {
   "cell_type": "code",
   "execution_count": 22,
   "metadata": {},
   "outputs": [
    {
     "data": {
      "text/plain": [
       "count    306.000000\n",
       "mean       4.026144\n",
       "std        7.189654\n",
       "min        0.000000\n",
       "25%        0.000000\n",
       "50%        1.000000\n",
       "75%        4.000000\n",
       "max       52.000000\n",
       "Name: node, dtype: float64"
      ]
     },
     "execution_count": 22,
     "metadata": {},
     "output_type": "execute_result"
    }
   ],
   "source": [
    "hmn['node'].describe()"
   ]
  },
  {
   "cell_type": "code",
   "execution_count": 23,
   "metadata": {},
   "outputs": [
    {
     "data": {
      "text/plain": [
       "count    225.000000\n",
       "mean       2.791111\n",
       "std        5.870318\n",
       "min        0.000000\n",
       "25%        0.000000\n",
       "50%        0.000000\n",
       "75%        3.000000\n",
       "max       46.000000\n",
       "Name: node, dtype: float64"
      ]
     },
     "execution_count": 23,
     "metadata": {},
     "output_type": "execute_result"
    }
   ],
   "source": [
    "hmn_1['node'].describe()"
   ]
  },
  {
   "cell_type": "code",
   "execution_count": 24,
   "metadata": {},
   "outputs": [
    {
     "data": {
      "text/plain": [
       "count    81.000000\n",
       "mean      7.456790\n",
       "std       9.185654\n",
       "min       0.000000\n",
       "25%       1.000000\n",
       "50%       4.000000\n",
       "75%      11.000000\n",
       "max      52.000000\n",
       "Name: node, dtype: float64"
      ]
     },
     "execution_count": 24,
     "metadata": {},
     "output_type": "execute_result"
    }
   ],
   "source": [
    "hmn_2['node'].describe()"
   ]
  },
  {
   "cell_type": "code",
   "execution_count": 25,
   "metadata": {},
   "outputs": [
    {
     "data": {
      "image/png": "[encoded data removed]",
      "text/plain": [
       "<matplotlib.figure.Figure at 0x22b36ad2be0>"
      ]
     },
     "metadata": {},
     "output_type": "display_data"
    }
   ],
   "source": [
    "sns.boxplot(x='class',y='node', data=hmn)\n",
    "plt.show()"
   ]
  },
  {
   "cell_type": "code",
   "execution_count": 26,
   "metadata": {},
   "outputs": [
    {
     "name": "stdout",
     "output_type": "stream",
     "text": [
      "Total: Number of Patient with detected +ve node =0: 136\n",
      "Total: Number of Patient with detected +ve node <10: 263\n"
     ]
    }
   ],
   "source": [
    "print(\"Total: Number of Patient with detected +ve node =0: {}\"\n",
    "      .format(len(hmn[hmn['node']==0])))\n",
    "print(\"Total: Number of Patient with detected +ve node <10: {}\"\n",
    "      .format(len(hmn[hmn['node']<10])))"
   ]
  },
  {
   "cell_type": "markdown",
   "metadata": {},
   "source": [
    "###### Conclusions:\n",
    "1. **44%** of patients are detected with 0 +ve axillary nodes\n",
    "2. Though the maximum number of nodes detected for any patient is 52, **86%** of patients are detected with < 10 +ve axillary nodes\n",
    "3. **75%** of patients who survived for more than 5 years after the operation had +ve axillary node <=3\n",
    "4. **50%** of patients who did not survive for more than 5 years after the operation had +ve axillary node >4"
   ]
  },
  {
   "cell_type": "markdown",
   "metadata": {},
   "source": [
    "Next I'll try bivariate analysis(age vs node-count) and check if they together reflect something more.\n",
    "\n",
    "We already know that 75% patient who survive have +ve axillary node <=3\n",
    "\n",
    "But what about those who do not survive in spite of <=3 +ve nodes detected. Do age play a factor there?"
   ]
  },
  {
   "cell_type": "code",
   "execution_count": 27,
   "metadata": {},
   "outputs": [
    {
     "data": {
      "text/plain": [
       "count    39.000000\n",
       "mean     54.256410\n",
       "std      11.818179\n",
       "min      34.000000\n",
       "25%      45.000000\n",
       "50%      52.000000\n",
       "75%      62.500000\n",
       "max      83.000000\n",
       "Name: age, dtype: float64"
      ]
     },
     "execution_count": 27,
     "metadata": {},
     "output_type": "execute_result"
    }
   ],
   "source": [
    "#(Q) For class-2 patients with <=3 nodes, what were their age?\n",
    "\n",
    "hmn_2[hmn_2['node']<=3]['age'].describe()"
   ]
  },
  {
   "cell_type": "markdown",
   "metadata": {},
   "source": [
    "###### Conclusions:\n",
    "1. **75%** of patients who could not survive more than 5 yr had age **>45** at the time of operation"
   ]
  },
  {
   "cell_type": "code",
   "execution_count": 28,
   "metadata": {},
   "outputs": [
    {
     "data": {
      "image/png": "[encoded data removed]",
      "text/plain": [
       "<matplotlib.figure.Figure at 0x22b36b9df28>"
      ]
     },
     "metadata": {},
     "output_type": "display_data"
    }
   ],
   "source": [
    "sns.lmplot(\"node\", \"age\", data=hmn, hue='class', fit_reg=False, size=10)\n",
    "\n",
    "plt.plot([-3, 60], [40, 40], 'k--', linewidth=2)\n",
    "plt.plot([3, 3], [40, 90], 'k--', linewidth=2)\n",
    "\n",
    "plt.show()"
   ]
  },
  {
   "cell_type": "code",
   "execution_count": 29,
   "metadata": {},
   "outputs": [
    {
     "name": "stdout",
     "output_type": "stream",
     "text": [
      "Total: Number of Patient whose age >40 and node <=3 = 187\n",
      "Class1: Number of Patient whose age >40 and node <=3 = 150\n",
      "\n",
      "Total: Number of Patient whose age >40 and node >3 = 76\n",
      "Class1: Number of Patient whose age >40 and node >3 = 36\n"
     ]
    }
   ],
   "source": [
    "print(\"Total: Number of Patient whose age >40 and node <=3 = {}\"\n",
    "      .format(len(hmn[(hmn['age']>40)&(hmn['node']<=3)])))\n",
    "print(\"Class1: Number of Patient whose age >40 and node <=3 = {}\"\n",
    "      .format(len(hmn_1[(hmn_1['age']>40)&(hmn_1['node']<=3)])))\n",
    "print()\n",
    "print(\"Total: Number of Patient whose age >40 and node >3 = {}\"\n",
    "      .format(len(hmn[(hmn['age']>40)&(hmn['node']>3)])))\n",
    "print(\"Class1: Number of Patient whose age >40 and node >3 = {}\"\n",
    "      .format(len(hmn_1[(hmn_1['age']>40)&(hmn_1['node']>3)])))"
   ]
  },
  {
   "cell_type": "markdown",
   "metadata": {},
   "source": [
    "###### Conclusions:\n",
    "* I divided the above scatterplot into 3 regions\n",
    "* Calaulated % patient distribution of class-1 vs class-2 for each region.\n",
    " \n",
    "| Region |       Condition     | class-1 % | class-2 % |\n",
    "|--------|---------------------|-----------|-----------|\n",
    "|    1   |       age <= 40     |     90    |     10    |\n",
    "|    2   | age > 40 & node <=3 |     80    |     20    |\n",
    "|    3   | age > 40 & node >3  |     47    |     53    |\n",
    "\n",
    "* Build a pseudo model,\n",
    "\n",
    " which Given a new patient's (age, year-of-operation, count-of-positive-nodes-detected), predicts if the patient will survive for more than 5 years after the operation or not."
   ]
  },
  {
   "cell_type": "code",
   "execution_count": 30,
   "metadata": {
    "collapsed": true
   },
   "outputs": [],
   "source": [
    "# Pseudo Model :\n",
    "\n",
    "def predict(age, opyr, node):\n",
    "    \n",
    "    '''This function returns\n",
    "        True: if a patient will survive for more than 5 years\n",
    "        False: otherwise\n",
    "    '''\n",
    "    \n",
    "    if age<=40:\n",
    "        return True  # 90% success rate\n",
    "    else:\n",
    "        if node<=3:\n",
    "            return True  # 80% success rate\n",
    "        else:\n",
    "            return\n",
    "            # I need some help here\n",
    "            # and would love to know how you would have analyzed this "
   ]
  }
 ],
 "metadata": {
  "kernelspec": {
   "display_name": "Python 3",
   "language": "python",
   "name": "python3"
  },
  "language_info": {
   "codemirror_mode": {
    "name": "ipython",
    "version": 3
   },
   "file_extension": ".py",
   "mimetype": "text/x-python",
   "name": "python",
   "nbconvert_exporter": "python",
   "pygments_lexer": "ipython3",
   "version": "3.6.3"
  }
 },
 "nbformat": 4,
 "nbformat_minor": 2
}
